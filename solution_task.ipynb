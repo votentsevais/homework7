{
 "cells": [
  {
   "cell_type": "markdown",
   "metadata": {},
   "source": [
    "# Задача №1"
   ]
  },
  {
   "cell_type": "code",
   "execution_count": 1,
   "metadata": {},
   "outputs": [
    {
     "name": "stdout",
     "output_type": "stream",
     "text": [
      "Введите номер машины: А222BС96\n",
      "Номер А222BС валиден. Регион: 96\n"
     ]
    }
   ],
   "source": [
    "import re\n",
    "car_id  = input(\"Введите номер машины: \")\n",
    "pattern_nn = r'([A-ZАВЕКМНОРСТУХ]{1})(\\d{3})([A-ZАВЕКМНОРСТУХ]{2})(\\d{2,3})'\n",
    "pattern_num = r'([A-ZАВЕКМНОРСТУХ]{1})(\\d{3})([A-ZАВЕКМНОРСТУХ]{2})'\n",
    "pattern_reg = r'\\d{2,3}$'\n",
    "if re.findall(pattern_nn,car_id ) != []:\n",
    "    print(\"Номер\", re.search(pattern_num,car_id).group(0), \"валиден. Регион:\" , re.search(pattern_reg,car_id).group(0) , sep=' ')\n",
    "else:\n",
    "    print(\"Номер не валиден\")"
   ]
  },
  {
   "cell_type": "markdown",
   "metadata": {},
   "source": [
    "# Задача №2"
   ]
  },
  {
   "cell_type": "code",
   "execution_count": 2,
   "metadata": {},
   "outputs": [
    {
     "name": "stdout",
     "output_type": "stream",
     "text": [
      "Введите тест: Напишите функцию функцию, которая будет будет будет будет удалять все все все все последовательные повторы слов из из из из заданной строки строки при помощи регулярных выражений\n",
      "Результат:\n",
      "Напишите функцию, которая будет удалять все последовательные повторы слов из заданной строки при помощи регулярных выражений\n"
     ]
    }
   ],
   "source": [
    "nn = input(\"Введите тест: \")\n",
    "#pattern_t = r'(?!\\S)(\\s\\w+)(?=\\s)\\1+'\n",
    "#print(re.findall(pattern_t,nn))\n",
    "print('Результат:')\n",
    "print(re.sub(r'(?!\\S)(\\s\\w+)(?=\\s)\\1+', r'\\1',nn))"
   ]
  },
  {
   "cell_type": "markdown",
   "metadata": {},
   "source": [
    "# Задание №3"
   ]
  },
  {
   "cell_type": "code",
   "execution_count": 3,
   "metadata": {},
   "outputs": [
    {
     "name": "stdout",
     "output_type": "stream",
     "text": [
      "Результат: NFC\n"
     ]
    }
   ],
   "source": [
    "some_words = 'Near Field Communication'\n",
    "res= ''.join(re.findall(r'\\b\\w{1}',some_words)).upper()\n",
    "print(\"Результат:\", res)"
   ]
  },
  {
   "cell_type": "markdown",
   "metadata": {},
   "source": [
    "# Задание №4"
   ]
  },
  {
   "cell_type": "code",
   "execution_count": 4,
   "metadata": {},
   "outputs": [
    {
     "name": "stdout",
     "output_type": "stream",
     "text": [
      "Результат:\n",
      "gmail.com : 2\n",
      "test.in : 1\n",
      "ya.ru : 2\n",
      "mail.ru : 1\n"
     ]
    }
   ],
   "source": [
    "emails = ['test@gmail.com', 'xyz@test.in', 'test@ya.ru', 'xyz@mail.ru', 'xyz@ya.ru', 'xyz@gmail.com']\n",
    "d = {}\n",
    "for i in emails:\n",
    "    res=(''.join(re.findall(r'(?!@)\\w+\\.\\w+',i)))\n",
    "    if res not in d.keys():\n",
    "        d[res] = 1\n",
    "    else:\n",
    "        d[res] +=1\n",
    "print('Результат:')\n",
    "for i in d.items() :\n",
    "    print(i[0], ':',i[1] )\n",
    "    "
   ]
  },
  {
   "cell_type": "code",
   "execution_count": null,
   "metadata": {},
   "outputs": [],
   "source": []
  }
 ],
 "metadata": {
  "kernelspec": {
   "display_name": "Python 3",
   "language": "python",
   "name": "python3"
  },
  "language_info": {
   "codemirror_mode": {
    "name": "ipython",
    "version": 3
   },
   "file_extension": ".py",
   "mimetype": "text/x-python",
   "name": "python",
   "nbconvert_exporter": "python",
   "pygments_lexer": "ipython3",
   "version": "3.8.5"
  }
 },
 "nbformat": 4,
 "nbformat_minor": 4
}
